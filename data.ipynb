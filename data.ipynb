{
 "cells": [
  {
   "cell_type": "code",
   "execution_count": 2,
   "metadata": {},
   "outputs": [],
   "source": [
    "import pandas as pd\n"
   ]
  },
  {
   "cell_type": "code",
   "execution_count": 8,
   "metadata": {},
   "outputs": [
    {
     "name": "stdout",
     "output_type": "stream",
     "text": [
      "   id  visitor_id  button                  name\n",
      "0   1         NaN       1           Home navbar\n",
      "1   2         NaN       1    Experiences navbar\n",
      "2   3         NaN       1        Contact navbar\n",
      "3   4         NaN       1  About OpenKAT navbar\n",
      "4   5         NaN       1          Get in Touch\n",
      "5   6         NaN       1            OpenKAT.nl\n",
      "6   7         NaN       1        LinkedIn Group\n",
      "   id  visitor_id           page  time_spent                  start_time\n",
      "0   1         NaN       HomePage   16.311129  2023-05-17 14:41:08.923944\n",
      "1   2         NaN    Experiences    4.315823  2023-05-17 14:41:25.240901\n",
      "2   3         NaN        Contact    4.898399  2023-05-17 14:41:29.559931\n",
      "3   4         NaN  About OpenKAT   57.939917  2023-05-17 14:41:34.461496\n",
      "4   5         NaN        Contact    3.553243  2023-05-17 14:42:32.404949\n",
      "5   6         NaN     OpenKAT.nl    4.286218  2023-05-17 14:42:35.959857\n"
     ]
    }
   ],
   "source": [
    "table_button = pd.read_csv(\"table_button.csv\")\n",
    "table_time = pd.read_csv(\"table_time.csv\")\n",
    "\n",
    "df_button = pd.DataFrame(table_button)\n",
    "df_time = pd.DataFrame(table_time)\n",
    "\n",
    "print(table_button)\n",
    "print(table_time)"
   ]
  },
  {
   "cell_type": "code",
   "execution_count": null,
   "metadata": {},
   "outputs": [],
   "source": []
  }
 ],
 "metadata": {
  "kernelspec": {
   "display_name": "base",
   "language": "python",
   "name": "python3"
  },
  "language_info": {
   "codemirror_mode": {
    "name": "ipython",
    "version": 3
   },
   "file_extension": ".py",
   "mimetype": "text/x-python",
   "name": "python",
   "nbconvert_exporter": "python",
   "pygments_lexer": "ipython3",
   "version": "3.9.12"
  },
  "orig_nbformat": 4
 },
 "nbformat": 4,
 "nbformat_minor": 2
}
